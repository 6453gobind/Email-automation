{
 "cells": [
  {
   "cell_type": "code",
   "execution_count": null,
   "metadata": {},
   "outputs": [],
   "source": [
    "!pip3 install pyautogui --user\n",
    "!pip3 install time --user\n"
   ]
  },
  {
   "cell_type": "code",
   "execution_count": 1,
   "metadata": {},
   "outputs": [],
   "source": [
    "#info\n",
    "def get_sending_info():\n",
    "    info={'to':'','subject':'','content':''}\n",
    "    file = open('user.txt', \"r\")\n",
    "    data = file.readlines() \n",
    "    if(len(data)>3):\n",
    "        for i in range(3,len(data)):\n",
    "            data[2]= data[2]+data[i]\n",
    "    for line in data: \n",
    "        key=line.split(\":\")[0]\n",
    "        val=line.split(\":\")[1:]\n",
    "        info[key]=val[0]\n",
    "        if(key=='content'):\n",
    "            break\n",
    "    info['to'] = info['to'].replace('\\n','') \n",
    "    info['subject'] = info['subject'].replace('\\n','') \n",
    "    return(info)"
   ]
  },
  {
   "cell_type": "code",
   "execution_count": 2,
   "metadata": {},
   "outputs": [],
   "source": [
    "def compose_email(info):\n",
    "    import pyautogui as pa\n",
    "    import time\n",
    "\n",
    "    pa.click(1,1)\n",
    "    time.sleep(1)\n",
    "    pa.typewrite(\"Web Browser\")\n",
    "    time.sleep(1)\n",
    "    pa.press(\"enter\")\n",
    "    time.sleep(1)\n",
    "    pa.typewrite('gmail.com')\n",
    "    pa.press('enter')\n",
    "    time.sleep(5)\n",
    "    pa.click(104,216)\n",
    "    time.sleep(1)\n",
    "    \n",
    "    #to\n",
    "    time.sleep(1)\n",
    "    pa.typewrite(info['to'])\n",
    "    pa.press('enter')\n",
    "    pa.press('tab')\n",
    "    \n",
    "    #subject\n",
    "    time.sleep(1)\n",
    "    pa.typewrite(info['subject'])\n",
    "    pa.press('enter')\n",
    "    pa.press('tab')\n",
    "    \n",
    "    #content\n",
    "    time.sleep(1)\n",
    "    pa.typewrite(info['content'])\n",
    "    pa.press('tab')\n",
    "    pa.press('enter')\n",
    "\n",
    "    #close the window\n",
    "    time.sleep(2)\n",
    "    pa.hotkey('alt','F4')\n",
    "    pa.press('enter')"
   ]
  },
  {
   "cell_type": "code",
   "execution_count": 3,
   "metadata": {},
   "outputs": [
    {
     "name": "stdout",
     "output_type": "stream",
     "text": [
      "info =  {'to': '6453gobind@gmail.com', 'subject': 'automate email sending', 'content': ' this is just for checking\\n'}\n"
     ]
    }
   ],
   "source": [
    "info = get_sending_info()\n",
    "print(\"info = \",info)"
   ]
  },
  {
   "cell_type": "code",
   "execution_count": null,
   "metadata": {},
   "outputs": [],
   "source": [
    "compose_email(info)"
   ]
  }
 ],
 "metadata": {
  "kernelspec": {
   "display_name": "Python 3",
   "language": "python",
   "name": "python3"
  },
  "language_info": {
   "codemirror_mode": {
    "name": "ipython",
    "version": 3
   },
   "file_extension": ".py",
   "mimetype": "text/x-python",
   "name": "python",
   "nbconvert_exporter": "python",
   "pygments_lexer": "ipython3",
   "version": "3.6.7"
  }
 },
 "nbformat": 4,
 "nbformat_minor": 2
}
